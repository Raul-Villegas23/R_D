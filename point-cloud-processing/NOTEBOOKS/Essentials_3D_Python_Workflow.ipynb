{
 "cells": [
  {
   "cell_type": "markdown",
   "id": "1341a9d1-80a7-4797-985f-75c75eb88755",
   "metadata": {},
   "source": [
    "Code Created by Florent Poux. \n",
    "This is part of a joint work with:\n",
    "* Prof. Sander Oude Elberink, \n",
    "* Prof. Mila Koeva, \n",
    "* Prof. Ville Lehtola, \n",
    "* Prof. Nourian Pirouz, \n",
    "* Prof. Paulo Raposo.\n",
    "\n",
    "Licence MIT, worked done with UTWENTE. Please refer to the article for the full comprehension.\n",
    "\n",
    "Members of the [ITC UTWENTE](https://www.itc.nl/) or students enrolled in a Program can use the code with privileged IP Rights. \n",
    "\n",
    "*   Have fun with this notebook that you can very simply run (ctrl+Enter) !\n",
    "*   Make sure to modify the paths to your dataset, either locally stored, on the CRIB, or in your Drive.\n",
    "*   You are free to reuse in your own project, please use the followinf reference if so: XXX\n",
    "\n",
    "For assistance:  [Linkedin](https://www.linkedin.com/in/florent-poux-point-cloud/), [Medium](https://medium.com/@florentpoux) or [Twitter](https://twitter.com/PouxPointCloud).\n",
    "\n",
    "Enjoy!"
   ]
  },
  {
   "cell_type": "markdown",
   "id": "06150e46-a027-49c0-9c5a-8a386fc5991d",
   "metadata": {},
   "source": [
    "# Step 3: Python Automation"
   ]
  },
  {
   "cell_type": "markdown",
   "id": "927239b6-522e-4e81-a71a-7dea24241a80",
   "metadata": {},
   "source": [
    "# 3.1. Importing libraries"
   ]
  },
  {
   "cell_type": "code",
   "execution_count": 1,
   "id": "f44e689b-0a14-41c1-a469-cf5b3c94c470",
   "metadata": {},
   "outputs": [
    {
     "name": "stdout",
     "output_type": "stream",
     "text": [
      "Jupyter environment detected. Enabling Open3D WebVisualizer.\n",
      "[Open3D INFO] WebRTC GUI backend enabled.\n",
      "[Open3D INFO] WebRTCWindowSystem: HTTP handshake server disabled.\n",
      "2.5.3\n",
      "Open 3D Version: 0.18.0\n"
     ]
    }
   ],
   "source": [
    "#Base libraries\n",
    "import numpy as np\n",
    "import matplotlib.pyplot as plt\n",
    "import pandas as pd\n",
    "\n",
    "#3D Libraries\n",
    "import open3d as o3d\n",
    "import laspy\n",
    "print(laspy.__version__)\n",
    "\n",
    "#Geospatial libraries\n",
    "import rasterio\n",
    "import alphashape as ash\n",
    "import geopandas as gpd\n",
    "import shapely as sh\n",
    "\n",
    "from rasterio.transform import from_origin\n",
    "from rasterio.enums import Resampling\n",
    "from rasterio.features import shapes\n",
    "from shapely.geometry import Polygon\n",
    "\n",
    "\n",
    "print(f\"Open 3D Version: {o3d.__version__}\")"
   ]
  },
  {
   "cell_type": "markdown",
   "id": "be796cce-a6d2-4a76-bfd9-409905f69368",
   "metadata": {},
   "source": [
    "# 3.2. Loading 3D datasets"
   ]
  },
  {
   "cell_type": "markdown",
   "id": "04fdfbca-c823-4ed4-8f9b-bc645c1d916e",
   "metadata": {},
   "source": [
    "We define the specific paths to our dataset:"
   ]
  },
  {
   "cell_type": "code",
   "execution_count": 2,
   "id": "0a2e730c-7dd6-41d6-9239-f80f1e22837a",
   "metadata": {},
   "outputs": [],
   "source": [
    "data_folder=\"../DATA/\"\n",
    "pc_dataset=\"28GN1_08_sampled.xyz\"\n",
    "mesh_dataset=\"pijlkruid_bag.ply\"\n",
    "glb_dataset=\"pijlkruid.glb\" # model.glb\n",
    "result_folder=\"../DATA/RESULTS/\""
   ]
  },
  {
   "cell_type": "markdown",
   "id": "cd43f370-5abd-439a-92ac-d068046534ec",
   "metadata": {},
   "source": [
    "We can prepare the point cloud by first creating a Pandas DataFrame object called pcd_df, which will host the point cloud data:"
   ]
  },
  {
   "cell_type": "code",
   "execution_count": 3,
   "id": "a0a1a4b1-74d3-4c9f-bd68-a210c3b3e07b",
   "metadata": {},
   "outputs": [
    {
     "name": "stdout",
     "output_type": "stream",
     "text": [
      "Index(['X', 'Y', 'Z', 'R', 'G', 'B', 'Intensity', 'Return Number',\n",
      "       'Number Of Returns', 'Scan Direction Flag', 'EdgeOfFlightLine',\n",
      "       'Classification', 'Scan Angle', 'User Data', 'Point Source ID',\n",
      "       'Gps Time', 'Near Infrared', 'Deviation', 'Withheld', 'Synthetic',\n",
      "       'KeyPoint', 'Overlap', 'Amplitude', 'Reflectance'],\n",
      "      dtype='object')\n"
     ]
    }
   ],
   "source": [
    "pcd_df= pd.read_csv(data_folder+pc_dataset, delimiter=\";\")\n",
    "print(pcd_df.columns)"
   ]
  },
  {
   "cell_type": "markdown",
   "id": "e07e8097-c8e3-4ed7-8e72-ac45352cb067",
   "metadata": {},
   "source": [
    "Numpy to Open3D"
   ]
  },
  {
   "cell_type": "code",
   "execution_count": 4,
   "id": "13679727-1dac-4b89-bd3e-562167e39de0",
   "metadata": {},
   "outputs": [
    {
     "data": {
      "text/plain": [
       "PointCloud with 5145352 points."
      ]
     },
     "execution_count": 4,
     "metadata": {},
     "output_type": "execute_result"
    }
   ],
   "source": [
    "pcd_o3d=o3d.geometry.PointCloud(o3d.utility.Vector3dVector(np.array(pcd_df[['X','Y','Z']])))\n",
    "pcd_o3d.colors=o3d.utility.Vector3dVector(np.array(pcd_df[['R','G','B']])/255)\n",
    "pcd_o3d"
   ]
  },
  {
   "cell_type": "markdown",
   "id": "c0d57975-e5fb-41eb-9dc7-01482a2e019d",
   "metadata": {},
   "source": [
    "Loading the Mesh dataset"
   ]
  },
  {
   "cell_type": "code",
   "execution_count": 5,
   "id": "5368efa5-0994-472c-a3be-88ffb5312a99",
   "metadata": {},
   "outputs": [
    {
     "data": {
      "text/plain": [
       "TriangleMesh with 105 points and 198 triangles."
      ]
     },
     "execution_count": 5,
     "metadata": {},
     "output_type": "execute_result"
    }
   ],
   "source": [
    "mesh=o3d.io.read_triangle_mesh(data_folder+mesh_dataset)\n",
    "mesh.paint_uniform_color([0.9,0.9,0.9])"
   ]
  },
  {
   "cell_type": "markdown",
   "id": "544ce95e-aa79-44ce-9395-d8452624ccd4",
   "metadata": {},
   "source": [
    "# 3.3. Python 3D Visualization"
   ]
  },
  {
   "cell_type": "markdown",
   "id": "9b2d0afd-2f43-43df-9a25-fda9edd64a7b",
   "metadata": {},
   "source": [
    "To vizualise in Open3D in the specific viewer, all we have to do is to pass a python list of objects to visualize. Our list is thus composed of one Open3D PointCloud, and one Open3D TriangleMesh, which gives [pcd_o3d,mesh]. Let us visualize this combination in a standalone window with:"
   ]
  },
  {
   "cell_type": "code",
   "execution_count": 6,
   "id": "ee4003ac-b22c-454c-a5ed-c15118415ba1",
   "metadata": {},
   "outputs": [],
   "source": [
    "pcd_o3d.estimate_normals()\n",
    "mesh.compute_vertex_normals()\n",
    "o3d.visualization.draw_geometries([pcd_o3d,mesh])"
   ]
  },
  {
   "cell_type": "markdown",
   "id": "aefc5ff4-d4ec-4faf-91d4-2da71e2a5363",
   "metadata": {},
   "source": [
    "Coloring based on classification.\n",
    "1=unclassified, 2=Ground, 6=building, 9=water, 26=rest"
   ]
  },
  {
   "cell_type": "code",
   "execution_count": 7,
   "id": "078a5fd2-a571-49e4-8b77-dc780660da48",
   "metadata": {},
   "outputs": [
    {
     "data": {
      "text/plain": [
       "array([ 1.,  2.,  6.,  9., 26.])"
      ]
     },
     "execution_count": 7,
     "metadata": {},
     "output_type": "execute_result"
    }
   ],
   "source": [
    "pcd_df['Classification'].unique()"
   ]
  },
  {
   "cell_type": "code",
   "execution_count": 8,
   "id": "f3433b54-a08f-4375-9063-cea6940bf307",
   "metadata": {},
   "outputs": [],
   "source": [
    "colors=np.zeros((len(pcd_df), 3))\n",
    "colors[pcd_df['Classification'] == 1] = [0.611, 0.8, 0.521]\n",
    "colors[pcd_df['Classification'] == 2] = [0.8, 0.670, 0.521]\n",
    "colors[pcd_df['Classification'] == 6] = [0.901, 0.419, 0.431]\n",
    "colors[pcd_df['Classification'] == 9] = [0.564, 0.850, 0.913]\n",
    "colors[pcd_df['Classification'] == 26] = [0.694, 0.662, 0.698]\n",
    "pcd_o3d.colors = o3d.utility.Vector3dVector(colors)"
   ]
  },
  {
   "cell_type": "markdown",
   "id": "a51fd5ba-de3d-43ba-9d39-16ae706578d3",
   "metadata": {},
   "source": [
    "# 4. 3D Python Challenges"
   ]
  },
  {
   "cell_type": "markdown",
   "id": "de19aa9d-d50b-4b65-af81-1d54ca1c6624",
   "metadata": {},
   "source": [
    "## Challenge 1: POI Query"
   ]
  },
  {
   "cell_type": "code",
   "execution_count": 9,
   "id": "d13078d9-a1a4-4dda-a95f-36c41e4980a2",
   "metadata": {},
   "outputs": [],
   "source": [
    "dist_POI=50\n",
    "POI=mesh.get_center()"
   ]
  },
  {
   "cell_type": "code",
   "execution_count": 10,
   "id": "004df6eb-e236-40a9-8236-d630d8206c07",
   "metadata": {},
   "outputs": [],
   "source": [
    "pcd_tree = o3d.geometry.KDTreeFlann(pcd_o3d)\n",
    "[k, idx, _] = pcd_tree.search_radius_vector_3d(POI, dist_POI)\n",
    "pcd_selection=pcd_o3d.select_by_index(idx)"
   ]
  },
  {
   "cell_type": "code",
   "execution_count": 11,
   "id": "362765e2-34bd-43c8-a2c1-de0a05077dbf",
   "metadata": {},
   "outputs": [],
   "source": [
    "o3d.visualization.draw_geometries([pcd_selection,mesh])"
   ]
  },
  {
   "cell_type": "markdown",
   "id": "c2120a66-d9ec-4ad5-b47b-b50a94b4b151",
   "metadata": {},
   "source": [
    "## Challenge 2: Parcel Surface"
   ]
  },
  {
   "cell_type": "code",
   "execution_count": 12,
   "id": "b5673d9f-1832-4b5c-afc9-26e5d7ed04ad",
   "metadata": {},
   "outputs": [
    {
     "name": "stdout",
     "output_type": "stream",
     "text": [
      "[Open3D INFO] Clearing all points from selection.\n"
     ]
    }
   ],
   "source": [
    "o3d.visualization.draw_geometries_with_vertex_selection([pcd_selection])"
   ]
  },
  {
   "cell_type": "code",
   "execution_count": 13,
   "id": "f449b1a4-eb90-4bae-90e9-d89d503f3c28",
   "metadata": {},
   "outputs": [
    {
     "data": {
      "image/svg+xml": [
       "<svg xmlns=\"http://www.w3.org/2000/svg\" xmlns:xlink=\"http://www.w3.org/1999/xlink\" width=\"100.0\" height=\"100.0\" viewBox=\"242167.5365222216 485132.2355273416 56.631972646777285 32.418959966802504\" preserveAspectRatio=\"xMinYMin meet\"><g transform=\"matrix(1,0,0,-1,0,970296.8900146501)\"><path fill-rule=\"evenodd\" fill=\"#ff3333\" stroke=\"#555555\" stroke-width=\"1.1326394529355457\" opacity=\"0.6\" d=\"M 242172.34698486,485162.55700684 L 242195.42498779,485156.33898926 L 242190.30499268,485134.33300781 L 242222.0710144,485137.35598755 L 242169.63400269,485137.77700806 L 242172.34698486,485162.55700684 z\" /></g></svg>"
      ],
      "text/plain": [
       "<POLYGON ((242172.347 485162.557, 242195.425 485156.339, 242190.305 485134.3...>"
      ]
     },
     "execution_count": 13,
     "metadata": {},
     "output_type": "execute_result"
    }
   ],
   "source": [
    "o3d_parcel_corners=pcd_selection.select_by_index([21211, 13975,19867,7066,2739 ])\n",
    "o3d_parcel_corners=np.array(o3d_parcel_corners.points)[:,:2]\n",
    "Polygon(o3d_parcel_corners)"
   ]
  },
  {
   "cell_type": "code",
   "execution_count": 14,
   "id": "de4c81cb-4cd6-47e6-9142-75f7402077dc",
   "metadata": {},
   "outputs": [
    {
     "name": "stdout",
     "output_type": "stream",
     "text": [
      "This is the obtained parcel area: 444.68538564947534 m²\n"
     ]
    }
   ],
   "source": [
    "pgon = Polygon(o3d_parcel_corners)\n",
    "print(f\"This is the obtained parcel area: {pgon.area} m²\")"
   ]
  },
  {
   "cell_type": "code",
   "execution_count": 15,
   "id": "5ac4fdb3-33d7-42c5-bc05-0faf01fd1b12",
   "metadata": {},
   "outputs": [],
   "source": [
    "def sort_coordinates(XY):\n",
    "    cx, cy = XY.mean(0)\n",
    "    x, y = XY.T\n",
    "    angles = np.arctan2(x-cx, y-cy)\n",
    "    indices = np.argsort(-angles)\n",
    "    return XY[indices]"
   ]
  },
  {
   "cell_type": "code",
   "execution_count": 16,
   "id": "ec8e7504-1891-4fa5-b39f-73029786d02b",
   "metadata": {},
   "outputs": [
    {
     "data": {
      "image/svg+xml": [
       "<svg xmlns=\"http://www.w3.org/2000/svg\" xmlns:xlink=\"http://www.w3.org/1999/xlink\" width=\"100.0\" height=\"100.0\" viewBox=\"242167.5365222216 485132.2355273416 56.631972646777285 32.418959966802504\" preserveAspectRatio=\"xMinYMin meet\"><g transform=\"matrix(1,0,0,-1,0,970296.8900146501)\"><path fill-rule=\"evenodd\" fill=\"#66cc99\" stroke=\"#555555\" stroke-width=\"1.1326394529355457\" opacity=\"0.6\" d=\"M 242190.30499268,485134.33300781 L 242222.0710144,485137.35598755 L 242195.42498779,485156.33898926 L 242172.34698486,485162.55700684 L 242169.63400269,485137.77700806 L 242190.30499268,485134.33300781 z\" /></g></svg>"
      ],
      "text/plain": [
       "<POLYGON ((242190.305 485134.333, 242222.071 485137.356, 242195.425 485156.3...>"
      ]
     },
     "execution_count": 16,
     "metadata": {},
     "output_type": "execute_result"
    }
   ],
   "source": [
    "np_sorted_2D_corners=sort_coordinates(o3d_parcel_corners)\n",
    "pgon = Polygon(np_sorted_2D_corners)\n",
    "Polygon(np_sorted_2D_corners) "
   ]
  },
  {
   "cell_type": "code",
   "execution_count": 17,
   "id": "9a4b9aff-c367-458a-8f9b-68ead63c0280",
   "metadata": {},
   "outputs": [
    {
     "name": "stdout",
     "output_type": "stream",
     "text": [
      "This is the parcel area: 872.4128926074803 m²\n"
     ]
    }
   ],
   "source": [
    "print(f\"This is the parcel area: {pgon.area} m²\")"
   ]
  },
  {
   "cell_type": "markdown",
   "id": "cd921423-903f-47ec-958d-75dbbf7c02ea",
   "metadata": {},
   "source": [
    "## Challenge 3: High and Low POI"
   ]
  },
  {
   "cell_type": "code",
   "execution_count": 18,
   "id": "0c12e2db-6459-4477-ab49-d1a8eb54a797",
   "metadata": {},
   "outputs": [
    {
     "name": "stdout",
     "output_type": "stream",
     "text": [
      "[2.42234016e+05 4.85197955e+05 2.46490002e+01]\n",
      "[2.42134535e+05 4.85098269e+05 1.09259996e+01]\n"
     ]
    }
   ],
   "source": [
    "print(pcd_selection.get_max_bound())\n",
    "print(pcd_selection.get_min_bound())"
   ]
  },
  {
   "cell_type": "code",
   "execution_count": 19,
   "id": "7710bf55-ea0f-4740-b644-beded7c2e003",
   "metadata": {},
   "outputs": [],
   "source": [
    "np_pcd_selection=np.array(pcd_selection.points)\n",
    "lowest_point_index=np.argmin(np_pcd_selection[:,2])\n",
    "highest_point_index=np.argmax(np_pcd_selection[:,2])"
   ]
  },
  {
   "cell_type": "code",
   "execution_count": 20,
   "id": "2bbfe429-aae9-45b0-8481-fb71253bc6fe",
   "metadata": {},
   "outputs": [],
   "source": [
    "low_point=pcd_selection.points[lowest_point_index]\n",
    "high_point=pcd_selection.points[highest_point_index]\n",
    "\n",
    "o3d.visualization.draw_geometries([pcd_selection])"
   ]
  },
  {
   "cell_type": "code",
   "execution_count": 21,
   "id": "6969a6a0-7908-4c6b-9895-11a4302e4a42",
   "metadata": {},
   "outputs": [
    {
     "data": {
      "text/plain": [
       "TriangleMesh with 762 points and 1520 triangles."
      ]
     },
     "execution_count": 21,
     "metadata": {},
     "output_type": "execute_result"
    }
   ],
   "source": [
    "lp=o3d.geometry.TriangleMesh.create_sphere()\n",
    "hp=o3d.geometry.TriangleMesh.create_sphere()\n",
    "lp.translate(np_pcd_selection[lowest_point_index])\n",
    "hp.translate(np_pcd_selection[highest_point_index])"
   ]
  },
  {
   "cell_type": "code",
   "execution_count": 22,
   "id": "b182ec1c-2e45-42cd-b6a8-305ce49ccd74",
   "metadata": {},
   "outputs": [],
   "source": [
    "lp.compute_vertex_normals()\n",
    "lp.paint_uniform_color([0.8,0.1,0.1])\n",
    "hp.compute_vertex_normals()\n",
    "hp.paint_uniform_color([0.1,0.1,0.8])\n",
    "o3d.visualization.draw_geometries([pcd_selection,lp,hp])"
   ]
  },
  {
   "cell_type": "markdown",
   "id": "06920816-24b8-488d-bc1e-abccbbf82c74",
   "metadata": {},
   "source": [
    "## Point Cloud Voxelization"
   ]
  },
  {
   "cell_type": "markdown",
   "id": "7760825e-6aee-4ba7-a104-33092e4a81fe",
   "metadata": {},
   "source": [
    "Adapting the coloring scheme: RGB"
   ]
  },
  {
   "cell_type": "code",
   "execution_count": 23,
   "id": "9747a3c1-c224-4bdc-8935-c6b0b520344e",
   "metadata": {
    "tags": []
   },
   "outputs": [],
   "source": [
    "pcd_o3d.colors=o3d.utility.Vector3dVector(np.array(pcd_df[['R','G','B']])/255)\n",
    "pcd_selection=pcd_o3d.select_by_index(idx)\n",
    "dist_POI=50\n",
    "POI=mesh.get_center()\n",
    "pcd_tree = o3d.geometry.KDTreeFlann(pcd_o3d)\n",
    "[k, idx, _] = pcd_tree.search_radius_vector_3d(POI, dist_POI)\n",
    "pcd_selection=pcd_o3d.select_by_index(idx)"
   ]
  },
  {
   "cell_type": "markdown",
   "id": "376d5fbb-4719-4ad4-a3c2-a20d1176742d",
   "metadata": {},
   "source": [
    "Createing the voxel grid and visualizing"
   ]
  },
  {
   "cell_type": "code",
   "execution_count": 24,
   "id": "d2e117a5-d86a-42da-9150-c065061f6413",
   "metadata": {},
   "outputs": [
    {
     "name": "stdout",
     "output_type": "stream",
     "text": [
      "[Open3D INFO]   -- Mouse view control --\n",
      "[Open3D INFO]     Left button + drag         : Rotate.\n",
      "[Open3D INFO]     Ctrl + left button + drag  : Translate.\n",
      "[Open3D INFO]     Wheel button + drag        : Translate.\n",
      "[Open3D INFO]     Shift + left button + drag : Roll.\n",
      "[Open3D INFO]     Wheel                      : Zoom in/out.\n",
      "[Open3D INFO] \n",
      "[Open3D INFO]   -- Keyboard view control --\n",
      "[Open3D INFO]     [/]          : Increase/decrease field of view.\n",
      "[Open3D INFO]     R            : Reset view point.\n",
      "[Open3D INFO]     Ctrl/Cmd + C : Copy current view status into the clipboard.\n",
      "[Open3D INFO]     Ctrl/Cmd + V : Paste view status from clipboard.\n",
      "[Open3D INFO] \n",
      "[Open3D INFO]   -- General control --\n",
      "[Open3D INFO]     Q, Esc       : Exit window.\n",
      "[Open3D INFO]     H            : Print help message.\n",
      "[Open3D INFO]     P, PrtScn    : Take a screen capture.\n",
      "[Open3D INFO]     D            : Take a depth capture.\n",
      "[Open3D INFO]     O            : Take a capture of current rendering settings.\n",
      "[Open3D INFO]     Alt + Enter  : Toggle between full screen and windowed mode.\n",
      "[Open3D INFO] \n",
      "[Open3D INFO]   -- Render mode control --\n",
      "[Open3D INFO]     L            : Turn on/off lighting.\n",
      "[Open3D INFO]     +/-          : Increase/decrease point size.\n",
      "[Open3D INFO]     Ctrl + +/-   : Increase/decrease width of geometry::LineSet.\n",
      "[Open3D INFO]     N            : Turn on/off point cloud normal rendering.\n",
      "[Open3D INFO]     S            : Toggle between mesh flat shading and smooth shading.\n",
      "[Open3D INFO]     W            : Turn on/off mesh wireframe.\n",
      "[Open3D INFO]     B            : Turn on/off back face rendering.\n",
      "[Open3D INFO]     I            : Turn on/off image zoom in interpolation.\n",
      "[Open3D INFO]     T            : Toggle among image render:\n",
      "[Open3D INFO]                    no stretch / keep ratio / freely stretch.\n",
      "[Open3D INFO] \n",
      "[Open3D INFO]   -- Color control --\n",
      "[Open3D INFO]     0..4,9       : Set point cloud color option.\n",
      "[Open3D INFO]                    0 - Default behavior, render point color.\n",
      "[Open3D INFO]                    1 - Render point color.\n",
      "[Open3D INFO]                    2 - x coordinate as color.\n",
      "[Open3D INFO]                    3 - y coordinate as color.\n",
      "[Open3D INFO]                    4 - z coordinate as color.\n",
      "[Open3D INFO]                    9 - normal as color.\n",
      "[Open3D INFO]     Ctrl + 0..4,9: Set mesh color option.\n",
      "[Open3D INFO]                    0 - Default behavior, render uniform gray color.\n",
      "[Open3D INFO]                    1 - Render point color.\n",
      "[Open3D INFO]                    2 - x coordinate as color.\n",
      "[Open3D INFO]                    3 - y coordinate as color.\n",
      "[Open3D INFO]                    4 - z coordinate as color.\n",
      "[Open3D INFO]                    9 - normal as color.\n",
      "[Open3D INFO]     Shift + 0..4 : Color map options.\n",
      "[Open3D INFO]                    0 - Gray scale color.\n",
      "[Open3D INFO]                    1 - JET color map.\n",
      "[Open3D INFO]                    2 - SUMMER color map.\n",
      "[Open3D INFO]                    3 - WINTER color map.\n",
      "[Open3D INFO]                    4 - HOT color map.\n",
      "[Open3D INFO] \n"
     ]
    }
   ],
   "source": [
    "voxel_grid = o3d.geometry.VoxelGrid.create_from_point_cloud(pcd_selection, voxel_size=2)\n",
    "o3d.visualization.draw_geometries([voxel_grid])"
   ]
  },
  {
   "cell_type": "markdown",
   "id": "80472425-339a-4f15-829e-b6d1f25b632a",
   "metadata": {},
   "source": [
    "Adapting the colouring scheme: Black and Red, and the selection with another POI if needed."
   ]
  },
  {
   "cell_type": "code",
   "execution_count": 25,
   "id": "133a6d53-4181-4535-bcdc-c9f107f7df39",
   "metadata": {},
   "outputs": [],
   "source": [
    "colors=np.zeros((len(pcd_df), 3))\n",
    "colors[pcd_df['Classification'] == 6] = [1, 0, 0]\n",
    "pcd_o3d.colors = o3d.utility.Vector3dVector(colors)\n",
    "dist_POI=50\n",
    "POI=mesh.get_center()\n",
    "pcd_tree = o3d.geometry.KDTreeFlann(pcd_o3d)\n",
    "[k, idx, _] = pcd_tree.search_radius_vector_3d(POI, dist_POI)\n",
    "pcd_selection=pcd_o3d.select_by_index(idx)"
   ]
  },
  {
   "cell_type": "code",
   "execution_count": 26,
   "id": "63e3db5a-c56c-4ca4-af41-a8d72ddf17f5",
   "metadata": {},
   "outputs": [],
   "source": [
    "voxel_grid = o3d.geometry.VoxelGrid.create_from_point_cloud(pcd_selection, voxel_size=2)\n",
    "o3d.visualization.draw_geometries([voxel_grid])"
   ]
  },
  {
   "cell_type": "code",
   "execution_count": 27,
   "id": "f1acef02-23ea-48de-8737-4e6bfc8b0cfb",
   "metadata": {},
   "outputs": [
    {
     "name": "stdout",
     "output_type": "stream",
     "text": [
      "[array([0, 0, 0]), array([50, 50,  7])]\n"
     ]
    }
   ],
   "source": [
    "idx_voxels=[v.grid_index for v in voxel_grid.get_voxels()]\n",
    "color_voxels=[v.color for v in voxel_grid.get_voxels()]\n",
    "bounds_voxels=[np.min(idx_voxels, axis=0),np.max(idx_voxels, axis=0)]\n",
    "print(bounds_voxels)"
   ]
  },
  {
   "cell_type": "markdown",
   "id": "d72b003b-9bcc-43a3-8a11-287a3e5142c4",
   "metadata": {},
   "source": [
    "## Challenge 4: Built Coverage"
   ]
  },
  {
   "cell_type": "code",
   "execution_count": 28,
   "id": "a9613f81-d344-474f-836e-99a17ca87c35",
   "metadata": {},
   "outputs": [],
   "source": [
    "max_voxel={}\n",
    "max_color={}"
   ]
  },
  {
   "cell_type": "code",
   "execution_count": 29,
   "id": "d69879d0-4d58-45a7-8532-2a562d08dcbe",
   "metadata": {},
   "outputs": [],
   "source": [
    "for idx, v in enumerate(idx_voxels):\n",
    "    if (v[0],v[1]) in max_voxel.keys():\n",
    "        if v[2]>max_voxel[(v[0],v[1])]:\n",
    "            max_voxel[(v[0],v[1])]=v[2]\n",
    "            max_color[(v[0],v[1])]=color_voxels[idx]\n",
    "    else:\n",
    "        max_voxel[(v[0],v[1])]=v[2]\n",
    "        max_color[(v[0],v[1])]=color_voxels[idx]"
   ]
  },
  {
   "cell_type": "code",
   "execution_count": 30,
   "id": "2124949b-83eb-4745-bd39-4586db6a8e7d",
   "metadata": {},
   "outputs": [],
   "source": [
    "count_building_coverage,count_non_building=0,0\n",
    "for col in list(max_color.values()):\n",
    "    if np.all(col==0):\n",
    "        count_non_building+=1\n",
    "    else:\n",
    "        count_building_coverage+=1"
   ]
  },
  {
   "cell_type": "code",
   "execution_count": 31,
   "id": "2c01e5b4-6582-49e3-83e9-41c8af817bfc",
   "metadata": {},
   "outputs": [
    {
     "name": "stdout",
     "output_type": "stream",
     "text": [
      "Coverage of Buildings: 3908 m²\n",
      "Coverage of the Rest: 4192 m²\n",
      "Built Ratio: 0.48246913580246914 m²\n"
     ]
    }
   ],
   "source": [
    "print(f\"Coverage of Buildings: {count_building_coverage*4} m²\")   \n",
    "print(f\"Coverage of the Rest: {count_non_building*4} m²\")\n",
    "print(f\"Built Ratio: {(count_building_coverage*4)/(count_building_coverage*4+count_non_building*4)} m²\") "
   ]
  },
  {
   "cell_type": "markdown",
   "id": "4be6c0c3-4a64-4a58-83d3-5122868b937f",
   "metadata": {},
   "source": [
    "# 5. Data Export"
   ]
  },
  {
   "cell_type": "code",
   "execution_count": 32,
   "id": "689d9b99-ef76-4822-bb24-bd09db00d9cd",
   "metadata": {},
   "outputs": [
    {
     "name": "stdout",
     "output_type": "stream",
     "text": [
      "[Open3D WARNING] Write PLY failed: unable to open file: ../DATA/RESULTS/28GN1_08_sampled_result_filtered_o3d.ply\n"
     ]
    },
    {
     "data": {
      "text/plain": [
       "False"
      ]
     },
     "execution_count": 32,
     "metadata": {},
     "output_type": "execute_result"
    }
   ],
   "source": [
    "#Exporting the selection\n",
    "o3d.io.write_point_cloud(result_folder+pc_dataset.split(\".\")[0]+\"_result_filtered_o3d.ply\", pcd_selection, write_ascii=False, compressed=False, print_progress=False)"
   ]
  },
  {
   "cell_type": "code",
   "execution_count": 34,
   "id": "ebe52066-16f8-4186-ad4a-fd0c7c446c49",
   "metadata": {},
   "outputs": [],
   "source": [
    "#Exporting the Parcel Area\n",
    "# np.savetxt(result_folder+pc_dataset.split(\".\")[0]+\"_selection.xyz\", np.asarray(o3d_parcel_corners),delimiter=';', fmt='%1.9f')"
   ]
  }
 ],
 "metadata": {
  "kernelspec": {
   "display_name": "R-D",
   "language": "python",
   "name": "python3"
  },
  "language_info": {
   "codemirror_mode": {
    "name": "ipython",
    "version": 3
   },
   "file_extension": ".py",
   "mimetype": "text/x-python",
   "name": "python",
   "nbconvert_exporter": "python",
   "pygments_lexer": "ipython3",
   "version": "3.9.19"
  }
 },
 "nbformat": 4,
 "nbformat_minor": 5
}
