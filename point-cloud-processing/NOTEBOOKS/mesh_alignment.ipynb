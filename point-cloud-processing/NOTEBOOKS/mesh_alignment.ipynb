{
 "cells": [
  {
   "cell_type": "markdown",
   "id": "1341a9d1-80a7-4797-985f-75c75eb88755",
   "metadata": {},
   "source": [
    "Code Created by Florent Poux. \n",
    "This is part of a joint work with:\n",
    "* Prof. Sander Oude Elberink, \n",
    "* Prof. Mila Koeva, \n",
    "* Prof. Ville Lehtola, \n",
    "* Prof. Nourian Pirouz, \n",
    "* Prof. Paulo Raposo.\n",
    "\n",
    "Licence MIT, worked done with UTWENTE. Please refer to the article for the full comprehension.\n",
    "\n",
    "Members of the [ITC UTWENTE](https://www.itc.nl/) or students enrolled in a Program can use the code with privileged IP Rights. \n",
    "\n",
    "*   Have fun with this notebook that you can very simply run (ctrl+Enter) !\n",
    "*   Make sure to modify the paths to your dataset, either locally stored, on the CRIB, or in your Drive.\n",
    "*   You are free to reuse in your own project, please use the followinf reference if so: XXX\n",
    "\n",
    "For assistance:  [Linkedin](https://www.linkedin.com/in/florent-poux-point-cloud/), [Medium](https://medium.com/@florentpoux) or [Twitter](https://twitter.com/PouxPointCloud).\n",
    "\n",
    "Enjoy!"
   ]
  },
  {
   "cell_type": "markdown",
   "id": "06150e46-a027-49c0-9c5a-8a386fc5991d",
   "metadata": {},
   "source": [
    "# Step 3: Python Automation"
   ]
  },
  {
   "cell_type": "markdown",
   "id": "927239b6-522e-4e81-a71a-7dea24241a80",
   "metadata": {},
   "source": [
    "# 3.1. Importing libraries"
   ]
  },
  {
   "cell_type": "code",
   "execution_count": 2,
   "id": "f44e689b-0a14-41c1-a469-cf5b3c94c470",
   "metadata": {},
   "outputs": [
    {
     "name": "stdout",
     "output_type": "stream",
     "text": [
      "2.5.3\n",
      "Open 3D Version: 0.18.0\n"
     ]
    }
   ],
   "source": [
    "import sys\n",
    "import os\n",
    "#Base libraries\n",
    "import numpy as np\n",
    "import matplotlib.pyplot as plt\n",
    "import pandas as pd\n",
    "\n",
    "#3D Libraries\n",
    "import open3d as o3d\n",
    "import laspy\n",
    "print(laspy.__version__)\n",
    "\n",
    "#GLB Libraries\n",
    "from pygltflib import GLTF2\n",
    "\n",
    "#Geospatial libraries\n",
    "import rasterio\n",
    "import alphashape as ash\n",
    "import geopandas as gpd\n",
    "import shapely as sh\n",
    "\n",
    "from rasterio.transform import from_origin\n",
    "from rasterio.enums import Resampling\n",
    "from rasterio.features import shapes\n",
    "from shapely.geometry import Polygon\n",
    "\n",
    "import copy\n",
    "import time\n",
    "# monkey patches visualization and provides helpers to load geometries\n",
    "sys.path.append('..')\n",
    "import open3d_tutorial as o3dtut\n",
    "# change to True if you want to interact with the visualization windows\n",
    "o3dtut.interactive = not \"CI\" in os.environ\n",
    "\n",
    "import open3d.core as o3c\n",
    "\n",
    "if o3d.__DEVICE_API__ == 'cuda':\n",
    "    import open3d.cuda.pybind.t.pipelines.registration as treg\n",
    "else:\n",
    "    import open3d.cpu.pybind.t.pipelines.registration as treg\n",
    "\n",
    "\n",
    "\n",
    "print(f\"Open 3D Version: {o3d.__version__}\")"
   ]
  },
  {
   "cell_type": "markdown",
   "id": "95e9d30e",
   "metadata": {},
   "source": [
    "# Helper visualization function"
   ]
  },
  {
   "cell_type": "code",
   "execution_count": 3,
   "id": "c0995d7c",
   "metadata": {},
   "outputs": [],
   "source": [
    "def draw_registration_result(source, target):\n",
    "    source_temp = copy.deepcopy(source)\n",
    "    target_temp = copy.deepcopy(target)\n",
    "    source_temp.paint_uniform_color([1, 0.706, 0])\n",
    "    target_temp.paint_uniform_color([0, 0.651, 0.929])\n",
    "    #source_temp.transform(transformation)\n",
    "    o3d.visualization.draw_geometries([source_temp, target_temp])"
   ]
  },
  {
   "cell_type": "markdown",
   "id": "be796cce-a6d2-4a76-bfd9-409905f69368",
   "metadata": {},
   "source": [
    "# 3.2. Loading 3D datasets"
   ]
  },
  {
   "cell_type": "markdown",
   "id": "04fdfbca-c823-4ed4-8f9b-bc645c1d916e",
   "metadata": {},
   "source": [
    "We define the specific paths to our dataset:"
   ]
  },
  {
   "cell_type": "code",
   "execution_count": 251,
   "id": "0a2e730c-7dd6-41d6-9239-f80f1e22837a",
   "metadata": {},
   "outputs": [],
   "source": [
    "data_folder=\"../DATA/\"\n",
    "pc_dataset=\"28GN1_08_sampled.xyz\"\n",
    "mesh_dataset=\"NL.IMBAG.Pand.0141100000048693.obj\"\n",
    "glb_dataset=\"model.glb\"\n",
    "result_folder=\"../DATA/RESULTS/\""
   ]
  },
  {
   "cell_type": "markdown",
   "id": "cd43f370-5abd-439a-92ac-d068046534ec",
   "metadata": {},
   "source": [
    "We can prepare the point cloud by first creating a Pandas DataFrame object called pcd_df, which will host the point cloud data:"
   ]
  },
  {
   "cell_type": "code",
   "execution_count": null,
   "id": "a0a1a4b1-74d3-4c9f-bd68-a210c3b3e07b",
   "metadata": {},
   "outputs": [],
   "source": [
    "# pcd_df= pd.read_csv(data_folder+pc_dataset, delimiter=\";\")\n",
    "# print(pcd_df.columns)"
   ]
  },
  {
   "cell_type": "markdown",
   "id": "e07e8097-c8e3-4ed7-8e72-ac45352cb067",
   "metadata": {},
   "source": [
    "Numpy to Open3D"
   ]
  },
  {
   "cell_type": "code",
   "execution_count": null,
   "id": "13679727-1dac-4b89-bd3e-562167e39de0",
   "metadata": {},
   "outputs": [],
   "source": [
    "# pcd_o3d=o3d.geometry.PointCloud(o3d.utility.Vector3dVector(np.array(pcd_df[['X','Y','Z']])))\n",
    "# pcd_o3d.colors=o3d.utility.Vector3dVector(np.array(pcd_df[['R','G','B']])/255)\n",
    "# pcd_o3d"
   ]
  },
  {
   "cell_type": "markdown",
   "id": "c0d57975-e5fb-41eb-9dc7-01482a2e019d",
   "metadata": {},
   "source": [
    "Loading the Mesh dataset (3DBAG)"
   ]
  },
  {
   "cell_type": "code",
   "execution_count": null,
   "id": "5368efa5-0994-472c-a3be-88ffb5312a99",
   "metadata": {},
   "outputs": [],
   "source": [
    "mesh=o3d.io.read_triangle_mesh(data_folder+mesh_dataset)\n",
    "mesh.paint_uniform_color([0.9,0.9,0.9])\n",
    "mesh.compute_vertex_normals()\n",
    "print(mesh)\n",
    "print(mesh.get_center())"
   ]
  },
  {
   "cell_type": "code",
   "execution_count": null,
   "id": "3306c593",
   "metadata": {},
   "outputs": [],
   "source": [
    "#Convex hull\n",
    "hull,_=mesh.compute_convex_hull()\n",
    "hull_ls=o3d.geometry.LineSet.create_from_triangle_mesh(hull)\n",
    "hull_ls.paint_uniform_color([1,0,0])\n",
    "# o3d.visualization.draw_geometries([mesh,hull_ls], window_name=\"Convex Hull\", width=800, height=600)"
   ]
  },
  {
   "cell_type": "markdown",
   "id": "05bff726",
   "metadata": {},
   "source": [
    "Loading a glb model"
   ]
  },
  {
   "cell_type": "code",
   "execution_count": null,
   "id": "0fa1b992",
   "metadata": {},
   "outputs": [],
   "source": [
    "glb = o3d.io.read_triangle_mesh(data_folder+glb_dataset)\n",
    "# Swap y and z coordinates\n",
    "vertices = np.asarray(glb.vertices)\n",
    "vertices = vertices[:, [0, 2, 1]]  # Swap y and z coordinates\n",
    "# Reflect the x-axis to fix the mirroring issue\n",
    "vertices[:, 0] = -vertices[:, 0]\n",
    "glb.vertices = o3d.utility.Vector3dVector(vertices)\n",
    "\n",
    "glb.paint_uniform_color([0.2, 0.2, 0.2])\n",
    "print(glb)\n",
    "print(\"Glb center:\")\n",
    "print(glb.get_center())\n",
    "glb.compute_vertex_normals()\n",
    "o3d.visualization.draw_geometries([glb], window_name=\"GLB Mesh\", width=800, height=600)\n"
   ]
  },
  {
   "cell_type": "markdown",
   "id": "544ce95e-aa79-44ce-9395-d8452624ccd4",
   "metadata": {},
   "source": [
    "# 3.3. Python 3D Visualization"
   ]
  },
  {
   "cell_type": "code",
   "execution_count": null,
   "id": "15665c86",
   "metadata": {},
   "outputs": [],
   "source": [
    "def draw_registration_result(source, target, transformation):\n",
    "    source_temp = copy.deepcopy(source)\n",
    "    target_temp = copy.deepcopy(target)\n",
    "    source_temp.paint_uniform_color([1, 0.706, 0])\n",
    "    target_temp.paint_uniform_color([0, 0.651, 0.929])\n",
    "    source_temp.transform(transformation)\n",
    "    o3d.visualization.draw_geometries([source_temp, target_temp])"
   ]
  },
  {
   "cell_type": "markdown",
   "id": "05ec6f6d",
   "metadata": {},
   "source": [
    "## Rotation function"
   ]
  },
  {
   "cell_type": "code",
   "execution_count": null,
   "id": "4e1578b2",
   "metadata": {},
   "outputs": [],
   "source": [
    "def rotation_matrix(axis, angle, is_degree=True):\n",
    "    \"\"\"Generate a rotation matrix given an axis and an angle.\n",
    "    Args:\n",
    "        axis (str): 'x', 'y', or 'z' axis to rotate around.\n",
    "        angle (float): The angle to rotate by.\n",
    "        is_degree (bool): If True, the angle is in degrees, otherwise radians.\n",
    "\n",
    "    Returns:\n",
    "        numpy.ndarray: The rotation matrix.\n",
    "    \"\"\"\n",
    "    if is_degree:\n",
    "        angle = np.radians(angle)\n",
    "    c, s = np.cos(angle), np.sin(angle)\n",
    "    if axis == 'x':\n",
    "        return np.array([\n",
    "            [1, 0, 0],\n",
    "            [0, c, -s],\n",
    "            [0, s, c]\n",
    "        ])\n",
    "    elif axis == 'y':\n",
    "        return np.array([\n",
    "            [c, 0, s],\n",
    "            [0, 1, 0],\n",
    "            [-s, 0, c]\n",
    "        ])\n",
    "    elif axis == 'z':\n",
    "        return np.array([\n",
    "            [c, -s, 0],\n",
    "            [s, c, 0],\n",
    "            [0, 0, 1]\n",
    "        ])\n",
    "    else:\n",
    "        raise ValueError(\"Axis must be 'x', 'y', or 'z'\")"
   ]
  },
  {
   "cell_type": "markdown",
   "id": "d861e954",
   "metadata": {},
   "source": [
    "# Aligning GLB model to 3D Bag object"
   ]
  },
  {
   "cell_type": "markdown",
   "id": "dbd66304",
   "metadata": {},
   "source": [
    "Translation of the 3d object for rough alignment"
   ]
  },
  {
   "cell_type": "code",
   "execution_count": null,
   "id": "dfb6ea6f",
   "metadata": {},
   "outputs": [],
   "source": [
    "# Get the translation matrix\n",
    "T=np.identity(4)\t# Create an identity matrix\n",
    "T[:3,3]=np.array(mesh.get_center())-np.array(glb.get_center()) # Set the translation values to the difference between the centers of the two point clouds\n",
    "print(T)\n",
    "glb_t = copy.deepcopy(glb) # Create a copy of the glb mesh\n",
    "glb_t.transform(T)  # Apply the translation matrix to the glb mesh\n",
    "\n",
    "# Draw the registration result\n",
    "draw_registration_result(mesh,glb_t,np.identity(4))\n"
   ]
  },
  {
   "cell_type": "markdown",
   "id": "e7c3fad0",
   "metadata": {},
   "source": [
    "# Manually rotating the glb to get a rough alignment before icp pipelines"
   ]
  },
  {
   "cell_type": "code",
   "execution_count": null,
   "id": "f94c8eac",
   "metadata": {},
   "outputs": [],
   "source": [
    "R =rotation_matrix('z', -16) # Generate a rotation matrix to rotate the glb mesh 170 degrees around the z-axis\n",
    "\n",
    "\n",
    "\n",
    "# Apply the rotation matrix to the glb mesh\n",
    "glb_r = copy.deepcopy(glb_t)\n",
    "glb_r.rotate(R, center=glb_r.get_center())\n",
    "\n",
    "\n",
    "# Draw the registration result\n",
    "draw_registration_result(mesh, glb_r, np.eye(4))"
   ]
  },
  {
   "cell_type": "code",
   "execution_count": null,
   "id": "a0b96c57",
   "metadata": {},
   "outputs": [],
   "source": [
    "def preprocess_point_cloud(pcd, voxel_size):\n",
    "    print(\":: Downsample with a voxel size %.3f.\" % voxel_size)\n",
    "    pcd_down = pcd.voxel_down_sample(voxel_size)\n",
    "\n",
    "    radius_normal = voxel_size * 2\n",
    "    print(\":: Estimate normal with search radius %.3f.\" % radius_normal)\n",
    "    pcd_down.estimate_normals(\n",
    "        o3d.geometry.KDTreeSearchParamHybrid(radius=radius_normal, max_nn=30))\n",
    "\n",
    "    radius_feature = voxel_size * 5\n",
    "    print(\":: Compute FPFH feature with search radius %.3f.\" % radius_feature)\n",
    "    pcd_fpfh = o3d.pipelines.registration.compute_fpfh_feature(\n",
    "        pcd_down,\n",
    "        o3d.geometry.KDTreeSearchParamHybrid(radius=radius_feature, max_nn=100))\n",
    "    return pcd_down, pcd_fpfh"
   ]
  },
  {
   "cell_type": "code",
   "execution_count": null,
   "id": "173e7204",
   "metadata": {},
   "outputs": [],
   "source": [
    "voxel_size = 0.05  # means 5cm for the dataset\n",
    "\n",
    "# # Convert mesh to point cloud for ICP\n",
    "mesh_pcd = o3d.geometry.PointCloud()\n",
    "mesh_pcd.points = mesh.vertices\n",
    "mesh_pcd.normals = mesh.vertex_normals\n",
    "mesh_pcd.estimate_normals(search_param=o3d.geometry.KDTreeSearchParamHybrid(radius=voxel_size*2, max_nn=30))\n",
    "\n",
    "source_down, source_fpfh = preprocess_point_cloud(mesh_pcd, voxel_size)\n",
    "\n",
    "# # Convert GLB mesh to point cloud for ICP\n",
    "glb_pcd = o3d.geometry.PointCloud()\n",
    "glb_pcd.points = glb_r.vertices\n",
    "glb_pcd.normals = glb_r.vertex_normals\n",
    "glb_pcd.estimate_normals(search_param=o3d.geometry.KDTreeSearchParamHybrid(radius=voxel_size*2, max_nn=30))\n",
    "\n",
    "target_down, target_fpfh = preprocess_point_cloud(glb_pcd, voxel_size)"
   ]
  },
  {
   "cell_type": "code",
   "execution_count": null,
   "id": "056ca11a",
   "metadata": {},
   "outputs": [],
   "source": [
    "draw_registration_result(source_down, target_down, np.identity(4))"
   ]
  },
  {
   "cell_type": "code",
   "execution_count": null,
   "id": "d7f76acc",
   "metadata": {},
   "outputs": [],
   "source": [
    "# def execute_global_registration(source_down, target_down, source_fpfh,\n",
    "#                                 target_fpfh, voxel_size):\n",
    "#     distance_threshold = voxel_size * 1.5\n",
    "#     print(\":: RANSAC registration on downsampled point clouds.\")\n",
    "#     print(\"   Since the downsampling voxel size is %.3f,\" % voxel_size)\n",
    "#     print(\"   we use a liberal distance threshold %.3f.\" % distance_threshold)\n",
    "#     result = o3d.pipelines.registration.registration_ransac_based_on_feature_matching(\n",
    "#         source_down, target_down, source_fpfh, target_fpfh, True,\n",
    "#         distance_threshold,\n",
    "#         o3d.pipelines.registration.TransformationEstimationPointToPoint(False),\n",
    "#         3, [\n",
    "#             o3d.pipelines.registration.CorrespondenceCheckerBasedOnEdgeLength(\n",
    "#                 0.9),\n",
    "#             o3d.pipelines.registration.CorrespondenceCheckerBasedOnDistance(\n",
    "#                 distance_threshold)\n",
    "#         ], o3d.pipelines.registration.RANSACConvergenceCriteria(100000, 0.999))\n",
    "#     return result"
   ]
  },
  {
   "cell_type": "code",
   "execution_count": null,
   "id": "7b818d9e",
   "metadata": {},
   "outputs": [],
   "source": [
    "# result_ransac = execute_global_registration(source_down, target_down,\n",
    "#                                             source_fpfh, target_fpfh,\n",
    "#                                             voxel_size)\n",
    "# print(result_ransac)\n",
    "# draw_registration_result(source_down, target_down, result_ransac.transformation)\n",
    "# print(\"RANSAC registration result\")\n",
    "# print(result_ransac.transformation)\n",
    "# draw_registration_result(mesh_pcd, glb_r, result_ransac.transformation)"
   ]
  },
  {
   "cell_type": "code",
   "execution_count": null,
   "id": "db16522a",
   "metadata": {},
   "outputs": [],
   "source": [
    "def refine_registration(source, target, source_fpfh, target_fpfh, voxel_size):\n",
    "    distance_threshold = voxel_size * 0.4\n",
    "    print(\":: Point-to-plane ICP registration is applied on original point\")\n",
    "    print(\"   clouds to refine the alignment. This time we use a strict\")\n",
    "    print(\"   distance threshold %.3f.\" % distance_threshold)\n",
    "    result = o3d.pipelines.registration.registration_icp(\n",
    "        source, target, distance_threshold,np.eye(4),\n",
    "        o3d.pipelines.registration.TransformationEstimationPointToPlane())\n",
    "    return result"
   ]
  },
  {
   "cell_type": "code",
   "execution_count": null,
   "id": "a33602b5",
   "metadata": {},
   "outputs": [],
   "source": [
    "result_icp = refine_registration(source_down, target_down, source_fpfh, target_fpfh,\n",
    "                                 voxel_size)\n",
    "print(result_icp)\n",
    "draw_registration_result(source_down, target_down, result_icp.transformation)\n",
    "draw_registration_result(mesh, glb_r, result_icp.transformation)"
   ]
  },
  {
   "cell_type": "code",
   "execution_count": null,
   "id": "1e2e9983",
   "metadata": {},
   "outputs": [],
   "source": [
    "# Perform ICP fine alignment\n",
    "threshold = 0.005  # Set a larger threshold if needed\n",
    "icp_result = o3d.pipelines.registration.registration_icp(\n",
    "    source_down, target_down, threshold, result_icp.transformation,\n",
    "    o3d.pipelines.registration.TransformationEstimationPointToPoint()\n",
    ")\n",
    "# Transform the GLB model based on ICP result\n",
    "glb_icp = copy.deepcopy(glb_r)\n",
    "glb_icp.transform(icp_result.transformation)\n",
    "\n",
    "# Color the mesh with a beautiful gradient\n",
    "glb_icp.compute_vertex_normals()\n",
    "glb_icp.paint_uniform_color([0.2, 0.2, 0.2])\n",
    "\n",
    "\n",
    "\n",
    "# Visualize the aligned models\n",
    "draw_registration_result(mesh, glb_icp, np.identity(4))"
   ]
  },
  {
   "cell_type": "code",
   "execution_count": null,
   "id": "8793a6e3",
   "metadata": {},
   "outputs": [],
   "source": [
    "print(\"ICP Transformation Matrix:\")\n",
    "print(icp_result.transformation)\n",
    "print(\"ICP Fitness Score:\")\n",
    "print(icp_result.fitness)\n",
    "print(\"ICP Inlier RMSE:\")\n",
    "print(icp_result.inlier_rmse)"
   ]
  },
  {
   "cell_type": "code",
   "execution_count": null,
   "id": "078a5fd2-a571-49e4-8b77-dc780660da48",
   "metadata": {},
   "outputs": [],
   "source": [
    "# pcd_df['Classification'].unique()"
   ]
  },
  {
   "cell_type": "code",
   "execution_count": null,
   "id": "f3433b54-a08f-4375-9063-cea6940bf307",
   "metadata": {},
   "outputs": [],
   "source": [
    "# colors=np.zeros((len(pcd_df), 3))\n",
    "# colors[pcd_df['Classification'] == 1] = [0.611, 0.8, 0.521]\n",
    "# colors[pcd_df['Classification'] == 2] = [0.8, 0.670, 0.521]\n",
    "# colors[pcd_df['Classification'] == 6] = [0.901, 0.419, 0.431]\n",
    "# colors[pcd_df['Classification'] == 9] = [0.564, 0.850, 0.913]\n",
    "# colors[pcd_df['Classification'] == 26] = [0.694, 0.662, 0.698]\n",
    "# pcd_o3d.colors = o3d.utility.Vector3dVector(colors)"
   ]
  }
 ],
 "metadata": {
  "kernelspec": {
   "display_name": "R-D",
   "language": "python",
   "name": "python3"
  },
  "language_info": {
   "codemirror_mode": {
    "name": "ipython",
    "version": 3
   },
   "file_extension": ".py",
   "mimetype": "text/x-python",
   "name": "python",
   "nbconvert_exporter": "python",
   "pygments_lexer": "ipython3",
   "version": "3.9.19"
  }
 },
 "nbformat": 4,
 "nbformat_minor": 5
}
